{
 "cells": [
  {
   "cell_type": "code",
   "execution_count": 1,
   "metadata": {},
   "outputs": [],
   "source": [
    "from dotenv import load_dotenv\n",
    "from azure.identity import DefaultAzureCredential\n",
    "from azure.core.credentials import AzureKeyCredential\n",
    "import os"
   ]
  },
  {
   "cell_type": "code",
   "execution_count": 2,
   "metadata": {},
   "outputs": [
    {
     "name": "stdout",
     "output_type": "stream",
     "text": [
      "\n",
      "\u001b[1m[\u001b[0m\u001b[34;49mnotice\u001b[0m\u001b[1;39;49m]\u001b[0m\u001b[39;49m A new release of pip is available: \u001b[0m\u001b[31;49m23.0.1\u001b[0m\u001b[39;49m -> \u001b[0m\u001b[32;49m24.1.1\u001b[0m\n",
      "\u001b[1m[\u001b[0m\u001b[34;49mnotice\u001b[0m\u001b[1;39;49m]\u001b[0m\u001b[39;49m To update, run: \u001b[0m\u001b[32;49mpip install --upgrade pip\u001b[0m\n"
     ]
    }
   ],
   "source": [
    "!pip install -r azure-search-vector-python-llamaindex-sample-requirements.txt --quiet"
   ]
  },
  {
   "cell_type": "code",
   "execution_count": 3,
   "metadata": {},
   "outputs": [
    {
     "name": "stdout",
     "output_type": "stream",
     "text": [
      "\n",
      "\u001b[1m[\u001b[0m\u001b[34;49mnotice\u001b[0m\u001b[1;39;49m]\u001b[0m\u001b[39;49m A new release of pip is available: \u001b[0m\u001b[31;49m23.0.1\u001b[0m\u001b[39;49m -> \u001b[0m\u001b[32;49m24.1.1\u001b[0m\n",
      "\u001b[1m[\u001b[0m\u001b[34;49mnotice\u001b[0m\u001b[1;39;49m]\u001b[0m\u001b[39;49m To update, run: \u001b[0m\u001b[32;49mpip install --upgrade pip\u001b[0m\n"
     ]
    }
   ],
   "source": [
    "!pip install -q llama-index-readers-web"
   ]
  },
  {
   "cell_type": "code",
   "execution_count": 5,
   "metadata": {},
   "outputs": [],
   "source": [
    "load_dotenv(override=True) # take environment variables from .env.\n",
    "\n",
    "# Make sure your .env file has values for the following environment variables\n",
    "endpoint = os.environ[\"AZURE_SEARCH_SERVICE_ENDPOINT\"]\n",
    "credential = AzureKeyCredential(os.environ[\"AZURE_SEARCH_ADMIN_KEY\"]) if len(os.environ[\"AZURE_SEARCH_ADMIN_KEY\"]) > 0 else DefaultAzureCredential()\n",
    "# index_name = os.environ[\"AZURE_SEARCH_INDEX\"]\n",
    "azure_openai_endpoint = os.environ[\"AZURE_OPENAI_ENDPOINT\"]\n",
    "# Llama Index does not support RBAC authentication, an API key is required\n",
    "azure_openai_key = os.environ[\"AZURE_OPENAI_KEY\"]\n",
    "if len(azure_openai_key) == 0:\n",
    "    raise Exception(\"API key required\")\n",
    "azure_openai_embedding_model = os.environ[\"AZURE_OPENAI_EMBEDDING_MODEL\"]\n",
    "azure_openai_embedding_deployment = os.environ[\"AZURE_OPENAI_EMBEDDING_DEPLOYMENT\"]\n",
    "azure_openai_chatgpt_deployment = os.environ[\"AZURE_OPENAI_CHATGPT_DEPLOYMENT\"]\n",
    "azure_openai_api_version = os.environ[\"AZURE_OPENAI_API_VERSION\"]\n",
    "# embedding_dimensions = int(os.getenv(\"AZURE_OPENAI_EMBEDDING_DIMENSIONS\", 1536))"
   ]
  },
  {
   "cell_type": "code",
   "execution_count": 6,
   "metadata": {},
   "outputs": [],
   "source": [
    "from llama_index.embeddings.azure_openai import AzureOpenAIEmbedding\n",
    "embeddings = AzureOpenAIEmbedding(\n",
    "    model_name=azure_openai_embedding_model,\n",
    "    deployment_name=azure_openai_embedding_deployment,\n",
    "    api_version=azure_openai_api_version,\n",
    "    azure_endpoint=azure_openai_endpoint,\n",
    "    api_key=azure_openai_key\n",
    ")"
   ]
  },
  {
   "cell_type": "code",
   "execution_count": 7,
   "metadata": {},
   "outputs": [],
   "source": [
    "from llama_index.llms.azure_openai import AzureOpenAI\n",
    "llm = AzureOpenAI(\n",
    "    deployment_name=azure_openai_chatgpt_deployment,\n",
    "    api_version=azure_openai_api_version,\n",
    "    azure_endpoint=azure_openai_endpoint,\n",
    "    api_key=azure_openai_key\n",
    ")"
   ]
  },
  {
   "cell_type": "code",
   "execution_count": 8,
   "metadata": {},
   "outputs": [],
   "source": [
    "from llama_index.readers.web import SimpleWebPageReader\n",
    "\n",
    "# Define the target URL\n",
    "url = \"https://www.jainsocietyhouston.org/about_us\"\n",
    "\n",
    "\n",
    "web_documents = SimpleWebPageReader().load_data(\n",
    "    [url]\n",
    ")\n",
    "\n",
    "# Extract the content from the website data document\n",
    "html_content = web_documents[0].text"
   ]
  },
  {
   "cell_type": "code",
   "execution_count": 9,
   "metadata": {},
   "outputs": [],
   "source": [
    "from bs4 import BeautifulSoup\n",
    "from llama_index.core import Document\n",
    "# Parse the data.\n",
    "soup = BeautifulSoup(html_content, 'html.parser')\n",
    "p_tags = soup.findAll('p')\n",
    "text_content = \"\"\n",
    "for each in p_tags:\n",
    "    text_content += each.text + \"\\n\"\n",
    "\n",
    "# Convert back to Document format\n",
    "documents = [Document(text=text_content)]"
   ]
  },
  {
   "cell_type": "code",
   "execution_count": 10,
   "metadata": {},
   "outputs": [],
   "source": [
    "from azure.search.documents.indexes import SearchIndexClient\n",
    "from azure.search.documents import SearchClient\n",
    "# Index name to use\n",
    "index_name = \"llamaindex-vector-jsh-about\"\n",
    "\n",
    "# Use index client to demonstrate creating an index\n",
    "index_client = SearchClient(\n",
    "    endpoint=endpoint,\n",
    "    index_name=index_name,\n",
    "    credential=credential,\n",
    ")"
   ]
  },
  {
   "cell_type": "code",
   "execution_count": 11,
   "metadata": {},
   "outputs": [],
   "source": [
    "from llama_index.vector_stores.azureaisearch import AzureAISearchVectorStore\n",
    "from llama_index.vector_stores.azureaisearch import (\n",
    "    IndexManagement,\n",
    "    MetadataIndexFieldType,\n",
    ")\n",
    "\n",
    "metadata_fields = {\n",
    "\n",
    "}\n",
    "\n",
    "vector_store = AzureAISearchVectorStore(\n",
    "    search_or_index_client=index_client,\n",
    "    filterable_metadata_field_keys=metadata_fields,\n",
    "    # index_name=index_name,\n",
    "    index_management=IndexManagement.VALIDATE_INDEX,\n",
    "    id_field_key=\"id\",\n",
    "    chunk_field_key=\"chunk\",\n",
    "    embedding_field_key=\"embedding\",\n",
    "    embedding_dimensionality=1536,\n",
    "    metadata_string_field_key=\"metadata\",\n",
    "    doc_id_field_key=\"doc_id\",\n",
    ")"
   ]
  },
  {
   "cell_type": "code",
   "execution_count": 12,
   "metadata": {},
   "outputs": [],
   "source": [
    "from llama_index.core import (\n",
    "    SimpleDirectoryReader,\n",
    "    StorageContext,\n",
    "    VectorStoreIndex,\n",
    "    load_index_from_storage,\n",
    ")\n",
    "from llama_index.core.settings import Settings\n",
    "\n",
    "storage_context = StorageContext.from_defaults(vector_store=vector_store)\n",
    "\n",
    "Settings.llm = llm\n",
    "Settings.embed_model = embeddings"
   ]
  },
  {
   "cell_type": "code",
   "execution_count": 13,
   "metadata": {},
   "outputs": [],
   "source": [
    "index = VectorStoreIndex.from_documents(\n",
    "    [],\n",
    "    storage_context=storage_context,\n",
    ")"
   ]
  },
  {
   "cell_type": "code",
   "execution_count": 14,
   "metadata": {},
   "outputs": [],
   "source": [
    "refreshed_docs = index.refresh_ref_docs(documents, update_kwargs={\"delete_kwargs\": {'delete_from_docstore': True}})"
   ]
  },
  {
   "cell_type": "code",
   "execution_count": 15,
   "metadata": {},
   "outputs": [
    {
     "name": "stdout",
     "output_type": "stream",
     "text": [
      "Score: 0.89288765\n",
      "File Name: Unknown\n",
      "Id: ebd043d7-8b33-40ac-a815-dd87e1bf2bf1\n",
      "\n",
      "Extracted Content:\n",
      "Home\n",
      "About Us\n",
      "Events\n",
      "Pathshala\n",
      "More\n",
      " \n",
      "Motto of Jain Center: To promote the philosophy and teachings of Jain religion and to establish a platform for worship, discussion and teaching of Jain rituals, ideals, and principles of Jain religion, to celebrate auspicious Jain events and festivals.\n",
      " \n",
      "Jainism is one of the oldest religious traditions of India, and has existed side by side with Hinduism throughout its long history. The basic philosophy of Jainism is non Violence and Anekantvad (Multiplicity of viewpoint). Jain Samaj is active in Houston since early 70s. Jain Society of Houston was formed in 1982.\n",
      "​Jain Center Houston has over 800 families as members, consisting of all sects of Jains like Deravasi, Sthanakvasi, Shwentamber, Digamber etc. JHS works under the guidance of  JAINA (The Federation of Jain Associations in North America).\n",
      " \n",
      "We have Mahavir Swami (Mul Nayak), Shankeshwar Parshwanath, and Rishabhdevji, as well as Laxmiji, Saraswatiji, Chakreshwaridevi, Padmawatidevi, Simandhar Swami, Gautam swami, Manibhadradevji, Ghantakarndevji sthapit in deraser. We also have a Sthanak with Navkaar Mantra pattika.\n",
      " \n",
      "JSH invites several Jain scholars and spiritual leaders throughout the year.\n",
      " \n",
      "Every Sunday JSH conducts Pathshala for school-age children at Jain Center. Over 175 students attend the Pathshala to learn Jainism and languages like Hindi and Gujarati. We serve light lunch to visitors and members on all Pathshala days.\n",
      " \n",
      "Every 3rd Saturday of the month, JSH has Digambar Vidhi Puja.\n",
      " \n",
      "Every last Sunday of the month, we have month-end Bhavna followed by Sangh Jaman (Lunch).\n",
      " \n",
      "Jain Center maintains a library with over 3500 books, CDs, DVDs Video, and Audio Cassettes.\n",
      " \n",
      "For Young adults between ages of 13 and 22, Jain Fellowship of Houston carries many activities.\n",
      "JSH Constitution\n",
      "Listen to JSH Pravachan\n",
      "Jain Tirth\n",
      "Jain e-Library/ ebooks\n",
      "Jain Panchang\n",
      "JSH Past Event Videos\n",
      "Jain Stavan Collection\n",
      "Jainism 101\n",
      "\n",
      "======================================== End of Result ========================================\n",
      "\n"
     ]
    }
   ],
   "source": [
    "from llama_index.core.vector_stores.types import VectorStoreQueryMode\n",
    "\n",
    "default_retriever = index.as_retriever(\n",
    "    vector_store_query_mode=VectorStoreQueryMode.DEFAULT\n",
    ")\n",
    "response = default_retriever.retrieve(\"Tell me about Jain Society of Houston\")\n",
    "\n",
    "# Loop through each NodeWithScore in the response\n",
    "for node_with_score in response:\n",
    "    node = node_with_score.node  # The TextNode object\n",
    "    score = node_with_score.score  # The similarity score\n",
    "    chunk_id = node.id_  # The chunk ID\n",
    "\n",
    "    # Extract the relevant metadata from the node\n",
    "    file_name = node.metadata.get(\"file_name\", \"Unknown\")\n",
    "    file_path = node.metadata.get(\"file_path\", \"Unknown\")\n",
    "\n",
    "    # Extract the text content from the node\n",
    "    text_content = node.text if node.text else \"No content available\"\n",
    "\n",
    "    # Print the results in a user-friendly format\n",
    "    print(f\"Score: {score}\")\n",
    "    print(f\"File Name: {file_name}\")\n",
    "    print(f\"Id: {chunk_id}\")\n",
    "    print(\"\\nExtracted Content:\")\n",
    "    print(text_content)\n",
    "    print(\"\\n\" + \"=\" * 40 + \" End of Result \" + \"=\" * 40 + \"\\n\")"
   ]
  },
  {
   "cell_type": "code",
   "execution_count": 16,
   "metadata": {},
   "outputs": [
    {
     "name": "stdout",
     "output_type": "stream",
     "text": [
      "Score: 2.349226474761963\n",
      "File Name: Unknown\n",
      "Id: ebd043d7-8b33-40ac-a815-dd87e1bf2bf1\n",
      "\n",
      "Extracted Content:\n",
      "Home\n",
      "About Us\n",
      "Events\n",
      "Pathshala\n",
      "More\n",
      " \n",
      "Motto of Jain Center: To promote the philosophy and teachings of Jain religion and to establish a platform for worship, discussion and teaching of Jain rituals, ideals, and principles of Jain religion, to celebrate auspicious Jain events and festivals.\n",
      " \n",
      "Jainism is one of the oldest religious traditions of India, and has existed side by side with Hinduism throughout its long history. The basic philosophy of Jainism is non Violence and Anekantvad (Multiplicity of viewpoint). Jain Samaj is active in Houston since early 70s. Jain Society of Houston was formed in 1982.\n",
      "​Jain Center Houston has over 800 families as members, consisting of all sects of Jains like Deravasi, Sthanakvasi, Shwentamber, Digamber etc. JHS works under the guidance of  JAINA (The Federation of Jain Associations in North America).\n",
      " \n",
      "We have Mahavir Swami (Mul Nayak), Shankeshwar Parshwanath, and Rishabhdevji, as well as Laxmiji, Saraswatiji, Chakreshwaridevi, Padmawatidevi, Simandhar Swami, Gautam swami, Manibhadradevji, Ghantakarndevji sthapit in deraser. We also have a Sthanak with Navkaar Mantra pattika.\n",
      " \n",
      "JSH invites several Jain scholars and spiritual leaders throughout the year.\n",
      " \n",
      "Every Sunday JSH conducts Pathshala for school-age children at Jain Center. Over 175 students attend the Pathshala to learn Jainism and languages like Hindi and Gujarati. We serve light lunch to visitors and members on all Pathshala days.\n",
      " \n",
      "Every 3rd Saturday of the month, JSH has Digambar Vidhi Puja.\n",
      " \n",
      "Every last Sunday of the month, we have month-end Bhavna followed by Sangh Jaman (Lunch).\n",
      " \n",
      "Jain Center maintains a library with over 3500 books, CDs, DVDs Video, and Audio Cassettes.\n",
      " \n",
      "For Young adults between ages of 13 and 22, Jain Fellowship of Houston carries many activities.\n",
      "JSH Constitution\n",
      "Listen to JSH Pravachan\n",
      "Jain Tirth\n",
      "Jain e-Library/ ebooks\n",
      "Jain Panchang\n",
      "JSH Past Event Videos\n",
      "Jain Stavan Collection\n",
      "Jainism 101\n",
      "\n",
      "======================================== End of Result ========================================\n",
      "\n"
     ]
    }
   ],
   "source": [
    "hybrid_retriever = index.as_retriever(\n",
    "    vector_store_query_mode=VectorStoreQueryMode.SEMANTIC_HYBRID\n",
    ")\n",
    "hybrid_response = hybrid_retriever.retrieve(\"Tell me about pathshala\")\n",
    "\n",
    "# Loop through each NodeWithScore in the response\n",
    "for node_with_score in hybrid_response:\n",
    "    node = node_with_score.node  # The TextNode object\n",
    "    score = node_with_score.score  # The similarity score\n",
    "    chunk_id = node.id_  # The chunk ID\n",
    "\n",
    "    # Extract the relevant metadata from the node\n",
    "    file_name = node.metadata.get(\"file_name\", \"Unknown\")\n",
    "    file_path = node.metadata.get(\"file_path\", \"Unknown\")\n",
    "\n",
    "    # Extract the text content from the node\n",
    "    text_content = node.text if node.text else \"No content available\"\n",
    "\n",
    "    # Print the results in a user-friendly format\n",
    "    print(f\"Score: {score}\")\n",
    "    print(f\"File Name: {file_name}\")\n",
    "    print(f\"Id: {chunk_id}\")\n",
    "    print(\"\\nExtracted Content:\")\n",
    "    print(text_content)\n",
    "    print(\"\\n\" + \"=\" * 40 + \" End of Result \" + \"=\" * 40 + \"\\n\")"
   ]
  },
  {
   "cell_type": "code",
   "execution_count": 17,
   "metadata": {},
   "outputs": [
    {
     "name": "stdout",
     "output_type": "stream",
     "text": [
      "Generated 1 sub questions.\n",
      "\u001b[1;3;38;2;237;90;200m[jsh_about] Q: What is the schedule for monthly Bhavna at Jain Society of Houston?\n",
      "\u001b[0m\u001b[1;3;38;2;237;90;200m[jsh_about] A: The monthly Bhavna at the Jain Society of Houston is held on the last Sunday of each month.\n",
      "\u001b[0m"
     ]
    }
   ],
   "source": [
    "from llama_index.core.query_engine import SubQuestionQueryEngine\n",
    "from llama_index.core.tools import QueryEngineTool, ToolMetadata\n",
    "\n",
    "# setup base query engine as tool\n",
    "query_engine_tools = [\n",
    "    QueryEngineTool(\n",
    "        query_engine=index.as_query_engine(),\n",
    "        metadata=ToolMetadata(\n",
    "            name=\"jsh_about\",\n",
    "            description=\"Jain Society of Houston (JSH)\",\n",
    "        ),\n",
    "    ),\n",
    "]\n",
    "# build a sub-question query engine over this tool\n",
    "# this allows decomposing the question down into sub-questions which then execute against the tool\n",
    "query_engine = SubQuestionQueryEngine.from_defaults(\n",
    "    query_engine_tools=query_engine_tools,\n",
    "   use_async=False,\n",
    ")\n",
    "\n",
    "response = query_engine.query(\"When does monthly Bhavna take place?\")"
   ]
  }
 ],
 "metadata": {
  "kernelspec": {
   "display_name": "Python 3",
   "language": "python",
   "name": "python3"
  },
  "language_info": {
   "codemirror_mode": {
    "name": "ipython",
    "version": 3
   },
   "file_extension": ".py",
   "mimetype": "text/x-python",
   "name": "python",
   "nbconvert_exporter": "python",
   "pygments_lexer": "ipython3",
   "version": "3.10.14"
  }
 },
 "nbformat": 4,
 "nbformat_minor": 2
}
